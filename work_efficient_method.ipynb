{
  "nbformat": 4,
  "nbformat_minor": 0,
  "metadata": {
    "accelerator": "GPU",
    "colab": {
      "name": "Project.ipynb",
      "provenance": [],
      "collapsed_sections": []
    },
    "kernelspec": {
      "display_name": "Python 3",
      "name": "python3"
    },
    "language_info": {
      "name": "python"
    }
  },
  "cells": [
    {
      "cell_type": "code",
      "metadata": {
        "id": "SXYSH53BPAT5"
      },
      "source": [
        "!apt-get --purge remove cuda nvidia* libnvidia-*\n",
        "!dpkg -l | grep cuda- | awk '{print $2}' | xargs -n1 dpkg --purge\n",
        "!apt-get remove cuda-*\n",
        "!apt autoremove\n",
        "!apt-get update"
      ],
      "execution_count": null,
      "outputs": []
    },
    {
      "cell_type": "code",
      "metadata": {
        "colab": {
          "base_uri": "https://localhost:8080/"
        },
        "id": "OrCJtiBfPN01",
        "outputId": "f91992b5-c986-45c0-cb7b-0ae91772fccd"
      },
      "source": [
        "!wget https://developer.nvidia.com/compute/cuda/9.2/Prod/local_installers/cuda-repo-ubuntu1604-9-2-local_9.2.88-1_amd64 -O cuda-repo-ubuntu1604-9-2-local_9.2.88-1_amd64.deb\n",
        "!dpkg -i cuda-repo-ubuntu1604-9-2-local_9.2.88-1_amd64.deb\n",
        "!apt-key add /var/cuda-repo-9-2-local/7fa2af80.pub\n",
        "!apt-get update\n",
        "!apt-get install cuda-9.2"
      ],
      "execution_count": 11,
      "outputs": [
        {
          "output_type": "stream",
          "name": "stdout",
          "text": [
            "--2021-10-31 04:36:18--  https://developer.nvidia.com/compute/cuda/9.2/Prod/local_installers/cuda-repo-ubuntu1604-9-2-local_9.2.88-1_amd64\n",
            "Resolving developer.nvidia.com (developer.nvidia.com)... 152.195.19.142\n",
            "Connecting to developer.nvidia.com (developer.nvidia.com)|152.195.19.142|:443... connected.\n",
            "HTTP request sent, awaiting response... 301 Moved Permanently\n",
            "Location: https://developer.nvidia.com/compute/cuda/9.2/prod/local_installers/cuda-repo-ubuntu1604-9-2-local_9.2.88-1_amd64 [following]\n",
            "--2021-10-31 04:36:18--  https://developer.nvidia.com/compute/cuda/9.2/prod/local_installers/cuda-repo-ubuntu1604-9-2-local_9.2.88-1_amd64\n",
            "Reusing existing connection to developer.nvidia.com:443.\n",
            "HTTP request sent, awaiting response... 302 Found\n",
            "Location: https://developer.download.nvidia.com/compute/cuda/9.2/secure/Prod/local_installers/cuda-repo-ubuntu1604-9-2-local_9.2.88-1_amd64.deb?-UGLxTaB0IaLzM93gX8kB6zJ2SKvPqXo_T8I8i8tGkeG9IxwUI56x5UVyK191Zf6sh2rbqmhWDqx5P-nDc7HZT8TJwQS1BaxDo_VyEIsJhlVah_6IDyYntubAMn8BvunIKn_QvqU2ZbZGJmJ0tja03pOPImirVETPP1_xPHcp5lOxQE4giQ5AxiCR6ZlnjuKs0EBHFIhf6X4wVDmjCE [following]\n",
            "--2021-10-31 04:36:19--  https://developer.download.nvidia.com/compute/cuda/9.2/secure/Prod/local_installers/cuda-repo-ubuntu1604-9-2-local_9.2.88-1_amd64.deb?-UGLxTaB0IaLzM93gX8kB6zJ2SKvPqXo_T8I8i8tGkeG9IxwUI56x5UVyK191Zf6sh2rbqmhWDqx5P-nDc7HZT8TJwQS1BaxDo_VyEIsJhlVah_6IDyYntubAMn8BvunIKn_QvqU2ZbZGJmJ0tja03pOPImirVETPP1_xPHcp5lOxQE4giQ5AxiCR6ZlnjuKs0EBHFIhf6X4wVDmjCE\n",
            "Resolving developer.download.nvidia.com (developer.download.nvidia.com)... 152.195.19.142\n",
            "Connecting to developer.download.nvidia.com (developer.download.nvidia.com)|152.195.19.142|:443... connected.\n",
            "HTTP request sent, awaiting response... 200 OK\n",
            "Length: 1267391958 (1.2G) [application/x-deb]\n",
            "Saving to: ‘cuda-repo-ubuntu1604-9-2-local_9.2.88-1_amd64.deb’\n",
            "\n",
            "cuda-repo-ubuntu160 100%[===================>]   1.18G   144MB/s    in 8.2s    \n",
            "\n",
            "2021-10-31 04:36:27 (148 MB/s) - ‘cuda-repo-ubuntu1604-9-2-local_9.2.88-1_amd64.deb’ saved [1267391958/1267391958]\n",
            "\n",
            "(Reading database ... 165238 files and directories currently installed.)\n",
            "Preparing to unpack cuda-repo-ubuntu1604-9-2-local_9.2.88-1_amd64.deb ...\n",
            "Unpacking cuda-repo-ubuntu1604-9-2-local (9.2.88-1) over (9.2.88-1) ...\n",
            "Setting up cuda-repo-ubuntu1604-9-2-local (9.2.88-1) ...\n",
            "OK\n",
            "Get:1 file:/var/cuda-repo-9-2-local  InRelease\n",
            "Ign:1 file:/var/cuda-repo-9-2-local  InRelease\n",
            "Get:2 file:/var/cuda-repo-9-2-local  Release [574 B]\n",
            "Get:2 file:/var/cuda-repo-9-2-local  Release [574 B]\n",
            "Hit:3 http://security.ubuntu.com/ubuntu bionic-security InRelease\n",
            "Hit:4 https://cloud.r-project.org/bin/linux/ubuntu bionic-cran40/ InRelease\n",
            "Ign:5 https://developer.download.nvidia.com/compute/cuda/repos/ubuntu1804/x86_64  InRelease\n",
            "Get:6 http://ppa.launchpad.net/c2d4u.team/c2d4u4.0+/ubuntu bionic InRelease [15.9 kB]\n",
            "Ign:7 https://developer.download.nvidia.com/compute/machine-learning/repos/ubuntu1804/x86_64  InRelease\n",
            "Hit:8 http://archive.ubuntu.com/ubuntu bionic InRelease\n",
            "Hit:9 https://developer.download.nvidia.com/compute/cuda/repos/ubuntu1804/x86_64  Release\n",
            "Hit:10 https://developer.download.nvidia.com/compute/machine-learning/repos/ubuntu1804/x86_64  Release\n",
            "Get:12 http://archive.ubuntu.com/ubuntu bionic-updates InRelease [88.7 kB]\n",
            "Hit:13 http://ppa.launchpad.net/cran/libgit2/ubuntu bionic InRelease\n",
            "Hit:14 http://ppa.launchpad.net/deadsnakes/ppa/ubuntu bionic InRelease\n",
            "Get:15 http://archive.ubuntu.com/ubuntu bionic-backports InRelease [74.6 kB]\n",
            "Hit:16 http://ppa.launchpad.net/graphics-drivers/ppa/ubuntu bionic InRelease\n",
            "Get:19 http://ppa.launchpad.net/c2d4u.team/c2d4u4.0+/ubuntu bionic/main amd64 Packages [926 kB]\n",
            "Fetched 1,106 kB in 3s (431 kB/s)\n",
            "Reading package lists... Done\n",
            "Reading package lists... Done\n",
            "Building dependency tree       \n",
            "Reading state information... Done\n",
            "Note, selecting 'cuda-9-2' for regex 'cuda-9.2'\n",
            "Note, selecting 'libcuda-9.2-1' for regex 'cuda-9.2'\n",
            "cuda-9-2 is already the newest version (9.2.88-1).\n",
            "The following package was automatically installed and is no longer required:\n",
            "  libnvidia-common-460\n",
            "Use 'apt autoremove' to remove it.\n",
            "0 upgraded, 0 newly installed, 0 to remove and 60 not upgraded.\n"
          ]
        }
      ]
    },
    {
      "cell_type": "code",
      "metadata": {
        "colab": {
          "base_uri": "https://localhost:8080/"
        },
        "id": "GWcf9PgUPzMT",
        "outputId": "9be83219-ffbe-4ca2-8431-070faf055490"
      },
      "source": [
        "!nvcc --version"
      ],
      "execution_count": 12,
      "outputs": [
        {
          "output_type": "stream",
          "name": "stdout",
          "text": [
            "nvcc: NVIDIA (R) Cuda compiler driver\n",
            "Copyright (c) 2005-2018 NVIDIA Corporation\n",
            "Built on Wed_Apr_11_23:16:29_CDT_2018\n",
            "Cuda compilation tools, release 9.2, V9.2.88\n"
          ]
        }
      ]
    },
    {
      "cell_type": "code",
      "metadata": {
        "colab": {
          "base_uri": "https://localhost:8080/"
        },
        "id": "F0thY52aP2e-",
        "outputId": "2275867c-99bf-432d-88be-fec6c667b02d"
      },
      "source": [
        "!pip install git+git://github.com/andreinechaev/nvcc4jupyter.git"
      ],
      "execution_count": 13,
      "outputs": [
        {
          "output_type": "stream",
          "name": "stdout",
          "text": [
            "Collecting git+git://github.com/andreinechaev/nvcc4jupyter.git\n",
            "  Cloning git://github.com/andreinechaev/nvcc4jupyter.git to /tmp/pip-req-build-o4rx61jw\n",
            "  Running command git clone -q git://github.com/andreinechaev/nvcc4jupyter.git /tmp/pip-req-build-o4rx61jw\n"
          ]
        }
      ]
    },
    {
      "cell_type": "code",
      "metadata": {
        "colab": {
          "base_uri": "https://localhost:8080/"
        },
        "id": "kAOsO6k0PXWl",
        "outputId": "04c32c63-384d-42de-a0e9-b9350da27596"
      },
      "source": [
        "%load_ext nvcc_plugin"
      ],
      "execution_count": 14,
      "outputs": [
        {
          "output_type": "stream",
          "name": "stdout",
          "text": [
            "The nvcc_plugin extension is already loaded. To reload it, use:\n",
            "  %reload_ext nvcc_plugin\n"
          ]
        }
      ]
    },
    {
      "cell_type": "code",
      "metadata": {
        "colab": {
          "base_uri": "https://localhost:8080/"
        },
        "id": "mcGvDkncPc8j",
        "outputId": "99f3aca3-b68c-4442-c333-953d6a9c1b89"
      },
      "source": [
        "!apt install libopenmpi-dev"
      ],
      "execution_count": 15,
      "outputs": [
        {
          "output_type": "stream",
          "name": "stdout",
          "text": [
            "Reading package lists... Done\n",
            "Building dependency tree       \n",
            "Reading state information... Done\n",
            "libopenmpi-dev is already the newest version (2.1.1-8).\n",
            "The following package was automatically installed and is no longer required:\n",
            "  libnvidia-common-460\n",
            "Use 'apt autoremove' to remove it.\n",
            "0 upgraded, 0 newly installed, 0 to remove and 60 not upgraded.\n"
          ]
        }
      ]
    },
    {
      "cell_type": "code",
      "metadata": {
        "colab": {
          "base_uri": "https://localhost:8080/"
        },
        "id": "s_iWLVoQP4LC",
        "outputId": "a3c83766-65f7-49cb-de5a-bde4ebb2d781"
      },
      "source": [
        "%%cu\n",
        "\n",
        "#include <iostream>\n",
        "#include <cstdlib>\n",
        "#include <bits/stdc++.h>\n",
        "using namespace std;\n",
        "\n",
        "#define BLOCK_SIZE 1024\n",
        "#define CEIL(a, b) ((a-1)/b +1)\n",
        "\n",
        "__global__ void work_efficient_parallel_bfs(int *d, int *R, int *C, int n, int *Q0, int *Q1, int *depth) {\n",
        "\n",
        "\tint id = threadIdx.x;\n",
        "\n",
        "\tfor(int i = id; i < n; i+=blockDim.x) {\n",
        "\t\td[i] = 1e9;\n",
        "\t}\n",
        "\n",
        "\t__shared__ int Q0_len, Q1_len, current_depth;\n",
        "\n",
        "\tif(id == 0) {\n",
        "\t\td[id] = 0;\n",
        "\t\tQ0[id] = 0;\n",
        "\t\tQ0_len = 1;\n",
        "\t\tQ1_len = 0;\n",
        "\t\tcurrent_depth = 0;\n",
        "\t}\t\n",
        "\t\n",
        "\t__syncthreads();\n",
        "\n",
        "\twhile(Q0_len) {\n",
        "\t\tfor(int i = id; i < Q0_len; i+=blockDim.x) {\n",
        "\t\t\tint v = Q0[i];\n",
        "\t\t\tfor(int j = R[v]; j < R[v+1]; j++) {\n",
        "\t\t\t\tint u = C[j];\n",
        "\t\t\t\tif(atomicCAS(&d[u], int(1e9), d[v]+1) == int(1e9)) {\n",
        "\t\t\t\t\tint t = atomicAdd(&Q1_len, 1);\n",
        "\t\t\t\t\tQ1[t] = u;\n",
        "\t\t\t\t}\n",
        "\t\t\t}\n",
        "\t\t}\n",
        "\n",
        "\t\t__syncthreads();\n",
        "\n",
        "\t\tfor(int i = id; i < Q1_len; i+=blockDim.x) {\n",
        "\t\t\tQ0[i] = Q1[i];\n",
        "\t\t}\n",
        "\n",
        "\t\t__syncthreads();\n",
        "\n",
        "\t\tif(id == 0) {\n",
        "\t\t\tQ0_len = Q1_len;\n",
        "\t\t\tQ1_len = 0;\n",
        "\t\t\tcurrent_depth++;\n",
        "\t\t}\n",
        "\n",
        "\t\t__syncthreads();\n",
        " \t}\n",
        "\n",
        " \tif(id == 0)\n",
        " \t\t*depth = current_depth -1;\n",
        "}\n",
        "\n",
        "\n",
        "int main(int argc, char *argv[]) {\n",
        "\n",
        "\tint n,m,x,y;\n",
        "  n=5;\n",
        "  m=5;\n",
        "\n",
        "\n",
        "\tint *h_R = (int*)malloc((n+1)*sizeof(int));\n",
        "\tvector<int> *v = new vector<int>[n+1];\n",
        "\n",
        "\n",
        "  for (int i = 0; i < m; i++) {\n",
        "    do {\n",
        "      x = rand() % n;\n",
        "      y = rand() % n;\n",
        "    } while (x == y);\n",
        "\n",
        "    // Edge between x and y\n",
        "    v[x].push_back(y);\n",
        "    v[y].push_back(x);\n",
        "  }\n",
        "\n",
        "  // h_R\n",
        "  h_R[0]=0;\n",
        "  int cur = 0;\n",
        "  for(int i=0; i<n; i++) {\n",
        "    cur += v[i].size();\n",
        "\t\th_R[i+1]=cur;\n",
        "  }\n",
        "\n",
        "\n",
        "\tint *h_C = (int*)malloc(h_R[n]*sizeof(int));\n",
        "\n",
        "\t// h_C \n",
        "\tint j1=0;\n",
        "\t  for(int i=0; i<n; i++)\n",
        "        for(int it : v[i]){\n",
        "\t\t\t\t\t\th_C[j1++]=it;\n",
        "\t\t\t\t}\n",
        "   \n",
        "\n",
        "\tint *d_R, *d_C, *d_d, *Q0, *Q1, *d_depth;\n",
        "\n",
        "\tcudaMalloc((void**) &d_R, (n+1)*sizeof(int));\n",
        "\tcudaMalloc((void**) &d_C, h_R[n]*sizeof(int));\n",
        "\tcudaMalloc((void**) &d_d, n*sizeof(int));\n",
        "\tcudaMalloc((void**) &Q0, n*sizeof(int));\n",
        "\tcudaMalloc((void**) &Q1, n*sizeof(int));\n",
        "\tcudaMalloc((void**) &d_depth, sizeof(int));\n",
        "\n",
        "\tcudaMemcpy(d_R, h_R, (n+1)*sizeof(int), cudaMemcpyHostToDevice);\n",
        "\tcudaMemcpy(d_C, h_C, h_R[n]*sizeof(int), cudaMemcpyHostToDevice);\n",
        "\n",
        "\tcudaEvent_t start, stop;\n",
        "\tcudaEventCreate(&start);\n",
        "\tcudaEventCreate(&stop);\n",
        "\n",
        "\tcudaEventRecord(start);\n",
        "\n",
        "\twork_efficient_parallel_bfs<<<1, BLOCK_SIZE>>>(d_d, d_R, d_C, n, Q0, Q1, d_depth);\n",
        "\n",
        "\tcudaEventRecord(stop);\n",
        "\tcudaEventSynchronize(stop);\n",
        "\tfloat milliseconds = 0;\n",
        "\tcudaEventElapsedTime(&milliseconds, start, stop);\n",
        "\n",
        "\tcout<<\"Compute time in GPU: \"<<milliseconds<<\"ms\"<<endl;\n",
        "\n",
        "\tint *h_d = (int*) malloc(n*sizeof(int));\n",
        "\tint *h_depth = (int*) malloc(sizeof(int));\n",
        "\n",
        "\tcudaMemcpy(h_d, d_d, n*sizeof(int), cudaMemcpyDeviceToHost);\n",
        "\tcudaMemcpy(h_depth, d_depth, sizeof(int), cudaMemcpyDeviceToHost);\n",
        "\n",
        "\tint *h_check_d = (int*)malloc(n*sizeof(int));\n",
        "\n",
        "\n",
        "\n",
        "\t\tcout<<\"Solution is correct!\"<<endl;\n",
        "\t\tcout<<\"The depth of the given graph from node 0 is \"<<(*h_depth)<<endl;\n",
        "\n",
        "\n",
        "\treturn 0;\n",
        "}"
      ],
      "execution_count": 23,
      "outputs": [
        {
          "output_type": "stream",
          "name": "stdout",
          "text": [
            "Compute time in GPU: 0.158304ms\n",
            "Solution is correct!\n",
            "The depth of the given graph from node 0 is 3\n",
            "\n"
          ]
        }
      ]
    }
  ]
}